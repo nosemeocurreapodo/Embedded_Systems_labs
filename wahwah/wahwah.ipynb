{
 "cells": [
  {
   "cell_type": "code",
   "execution_count": null,
   "metadata": {},
   "outputs": [],
   "source": [
    "from pynq import Overlay, allocate, PL\n",
    "\n",
    "PL.reset()\n",
    "overlay = Overlay('wahwah.bit')"
   ]
  },
  {
   "cell_type": "code",
   "execution_count": null,
   "metadata": {},
   "outputs": [],
   "source": [
    "print('IP blocks :', list(overlay.ip_dict.keys()))"
   ]
  },
  {
   "cell_type": "code",
   "execution_count": null,
   "metadata": {},
   "outputs": [],
   "source": [
    "wahwah_filter     = overlay.wah_wah_filter_axi_0\n",
    "dma_0 = overlay.axi_dma_0\n",
    "dma_0_send = overlay.axi_dma_0.sendchannel\n",
    "dma_0_recv = overlay.axi_dma_0.recvchannel\n",
    "\n",
    "CONTROL_REGISTER = 0x0\n",
    "\n",
    "def get_register_offset(overlay, ip, parameter):\n",
    "    return overlay.ip_dict[ip]['registers'][parameter]['address_offset']\n",
    "        \n",
    "SAMPLE_RATE_REGISTER = get_register_offset(overlay, 'wah_wah_filter_axi_0', 'sample_rate')\n",
    "MIN_FREQ_REGISTER = get_register_offset(overlay, 'wah_wah_filter_axi_0', 'min_freq')\n",
    "MAX_FREQ_REGISTER = get_register_offset(overlay, 'wah_wah_filter_axi_0', 'max_freq')\n",
    "LFO_FREQ_REGISTER = get_register_offset(overlay, 'wah_wah_filter_axi_0', 'lfo_freq')\n",
    "\n",
    "wahwah_filter.write(SAMPLE_RATE_REGISTER, 48000)\n",
    "wahwah_filter.write(MIN_FREQ_REGISTER, 500.0)\n",
    "wahwah_filter.write(MAX_FREQ_REGISTER, 3000.0)\n",
    "wahwah_filter.write(LFO_FREQ_REGISTER, 0.2)"
   ]
  },
  {
   "cell_type": "code",
   "execution_count": null,
   "metadata": {},
   "outputs": [],
   "source": [
    "def process_buffers_fpga(in_buffer, out_buffer):\n",
    "\n",
    "    wahwah_filter.write(CONTROL_REGISTER, 0x01)\n",
    "    \n",
    "    dma_0_send.transfer(in_buffer)\n",
    "    dma_0_recv.transfer(out_buffer)\n",
    "    dma_0_send.wait()\n",
    "    dma_0_recv.wait()\n",
    "\n",
    "def process_fpga(raw_data):\n",
    "    \n",
    "    in_buffer = allocate(shape=(len(raw_data),), dtype=raw_data.dtype)\n",
    "    out_buffer = allocate(shape=(len(raw_data),), dtype=raw_data.dtype)\n",
    "    \n",
    "    process_buffers_fpga(in_buffer, out_buffer)\n",
    "    \n",
    "    return out_buffer"
   ]
  },
  {
   "cell_type": "code",
   "execution_count": null,
   "metadata": {},
   "outputs": [],
   "source": [
    "from IPython.display import Audio as IPAudio\n",
    "IPAudio(\"recording_0.wav\")"
   ]
  },
  {
   "cell_type": "markdown",
   "metadata": {},
   "source": [
    "## Plotting PCM data\n",
    "\n",
    "Users can display the audio data in notebook:\n",
    "\n",
    "1. Plot the audio signal's amplitude over time.\n",
    "2. Plot the spectrogram of the audio signal.\n",
    "\n",
    "The next cell reads the saved audio file and processes it into a `numpy` array.\n",
    "Note that if the audio sample width is not standard, additional processing\n",
    "is required. In the following example, the `sample_width` is read from the\n",
    "wave file itself (24-bit dual-channel PCM audio, where `sample_width` is 3 bytes)."
   ]
  },
  {
   "cell_type": "code",
   "execution_count": null,
   "metadata": {},
   "outputs": [],
   "source": [
    "%matplotlib inline\n",
    "import wave\n",
    "import numpy as np\n",
    "import matplotlib\n",
    "import matplotlib.pyplot as plt\n",
    "from scipy.fftpack import fft\n",
    "\n",
    "wav_path = \"recording_0.wav\"\n",
    "with wave.open(wav_path, 'r') as wav_file:\n",
    "    raw_frames = wav_file.readframes(-1)\n",
    "    num_frames = wav_file.getnframes()\n",
    "    num_channels = wav_file.getnchannels()\n",
    "    sample_rate = wav_file.getframerate()\n",
    "    sample_width = wav_file.getsampwidth()\n",
    "\n",
    "    #print(\"in data type: \", raw_frames.dtype, \" len: \", len(raw_frames))\n",
    "    print(\"num_frames: \", num_frames)\n",
    "    print(\"num_channels: \", num_channels)\n",
    "    print(\"sample_rate: \", sample_rate)\n",
    "    print(\"sample_width: \", sample_width)\n",
    "        \n",
    "temp_buffer = np.empty((num_frames, num_channels, 4), dtype=np.uint8)\n",
    "raw_bytes = np.frombuffer(raw_frames, dtype=np.uint8)\n",
    "temp_buffer[:, :, :sample_width] = raw_bytes.reshape(-1, num_channels, \n",
    "                                                    sample_width)\n",
    "temp_buffer[:, :, sample_width:] = \\\n",
    "    (temp_buffer[:, :, sample_width-1:sample_width] >> 7) * 255\n",
    "frames = temp_buffer.view('<i4').reshape(temp_buffer.shape[:-1])"
   ]
  },
  {
   "cell_type": "markdown",
   "metadata": {},
   "source": [
    "### 1. Amplitude over time"
   ]
  },
  {
   "cell_type": "code",
   "execution_count": null,
   "metadata": {},
   "outputs": [],
   "source": [
    "for channel_index in range(num_channels):\n",
    "    plt.figure(num=None, figsize=(15, 3))\n",
    "    plt.title('Audio in Time Domain (Channel {})'.format(channel_index))\n",
    "    plt.xlabel('Time in s')\n",
    "    plt.ylabel('Amplitude')\n",
    "    time_axis = np.arange(0, num_frames/sample_rate, 1/sample_rate)\n",
    "    plt.plot(time_axis, frames[:, channel_index])\n",
    "    plt.show()"
   ]
  },
  {
   "cell_type": "code",
   "execution_count": null,
   "metadata": {},
   "outputs": [],
   "source": [
    "filtered_data = []\n",
    "for i in range(num_channels):\n",
    "    filtered = process_fpga(frames[:, 0])\n",
    "    filtered_data.append(filtered)"
   ]
  },
  {
   "cell_type": "code",
   "execution_count": null,
   "metadata": {},
   "outputs": [],
   "source": [
    "for channel_index in range(num_channels):\n",
    "    plt.figure(num=None, figsize=(15, 3))\n",
    "    plt.title('Audio in Time Domain (Channel {})'.format(channel_index))\n",
    "    plt.xlabel('Time in s')\n",
    "    plt.ylabel('Amplitude')\n",
    "    time_axis = np.arange(0, num_frames/sample_rate, 1/sample_rate)\n",
    "    plt.plot(time_axis, filtered_data[channel_index])\n",
    "    plt.show()"
   ]
  },
  {
   "cell_type": "code",
   "execution_count": null,
   "metadata": {},
   "outputs": [],
   "source": []
  }
 ],
 "metadata": {
  "kernelspec": {
   "display_name": "Python 3 (ipykernel)",
   "language": "python",
   "name": "python3"
  },
  "language_info": {
   "codemirror_mode": {
    "name": "ipython",
    "version": 3
   },
   "file_extension": ".py",
   "mimetype": "text/x-python",
   "name": "python",
   "nbconvert_exporter": "python",
   "pygments_lexer": "ipython3",
   "version": "3.10.4"
  }
 },
 "nbformat": 4,
 "nbformat_minor": 1
}

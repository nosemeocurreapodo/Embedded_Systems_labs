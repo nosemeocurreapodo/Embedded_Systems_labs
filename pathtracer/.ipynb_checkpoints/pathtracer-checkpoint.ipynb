{
 "cells": [
  {
   "cell_type": "code",
   "execution_count": 1,
   "metadata": {},
   "outputs": [
    {
     "data": {
      "application/javascript": [
       "\n",
       "try {\n",
       "require(['notebook/js/codecell'], function(codecell) {\n",
       "  codecell.CodeCell.options_default.highlight_modes[\n",
       "      'magic_text/x-csrc'] = {'reg':[/^%%microblaze/]};\n",
       "  Jupyter.notebook.events.one('kernel_ready.Kernel', function(){\n",
       "      Jupyter.notebook.get_cells().map(function(cell){\n",
       "          if (cell.cell_type == 'code'){ cell.auto_highlight(); } }) ;\n",
       "  });\n",
       "});\n",
       "} catch (e) {};\n"
      ]
     },
     "metadata": {},
     "output_type": "display_data"
    },
    {
     "data": {
      "application/javascript": [
       "\n",
       "try {\n",
       "require(['notebook/js/codecell'], function(codecell) {\n",
       "  codecell.CodeCell.options_default.highlight_modes[\n",
       "      'magic_text/x-csrc'] = {'reg':[/^%%pybind11/]};\n",
       "  Jupyter.notebook.events.one('kernel_ready.Kernel', function(){\n",
       "      Jupyter.notebook.get_cells().map(function(cell){\n",
       "          if (cell.cell_type == 'code'){ cell.auto_highlight(); } }) ;\n",
       "  });\n",
       "});\n",
       "} catch (e) {};\n"
      ]
     },
     "metadata": {},
     "output_type": "display_data"
    }
   ],
   "source": [
    "from pynq import Overlay, allocate, PL\n",
    "\n",
    "PL.reset()\n",
    "overlay = Overlay('pathtracer.bit')"
   ]
  },
  {
   "cell_type": "code",
   "execution_count": 2,
   "metadata": {},
   "outputs": [
    {
     "name": "stdout",
     "output_type": "stream",
     "text": [
      "IP blocks : ['wah_wah_filter_axi_0', 'render_0', 'axi_dma_0', 'axi_dma_r', 'axi_dma_b', 'axi_dma_g', 'processing_system7_0']\n"
     ]
    }
   ],
   "source": [
    "print('IP blocks :', list(overlay.ip_dict.keys()))"
   ]
  },
  {
   "cell_type": "code",
   "execution_count": 3,
   "metadata": {},
   "outputs": [
    {
     "ename": "AttributeError",
     "evalue": "Could not find IP or hierarchy pathtracer in overlay",
     "output_type": "error",
     "traceback": [
      "\u001b[0;31m---------------------------------------------------------------------------\u001b[0m",
      "\u001b[0;31mAttributeError\u001b[0m                            Traceback (most recent call last)",
      "Input \u001b[0;32mIn [3]\u001b[0m, in \u001b[0;36m<cell line: 1>\u001b[0;34m()\u001b[0m\n\u001b[0;32m----> 1\u001b[0m pathtracer     \u001b[38;5;241m=\u001b[39m \u001b[43moverlay\u001b[49m\u001b[38;5;241;43m.\u001b[39;49m\u001b[43mpathtracer\u001b[49m\n\u001b[1;32m      2\u001b[0m \u001b[38;5;66;03m#dma_0 = overlay.axi_dma_0\u001b[39;00m\n\u001b[1;32m      3\u001b[0m dma_r_send \u001b[38;5;241m=\u001b[39m overlay\u001b[38;5;241m.\u001b[39maxi_dma_r\u001b[38;5;241m.\u001b[39msendchannel\n",
      "File \u001b[0;32m/usr/local/share/pynq-venv/lib/python3.10/site-packages/pynq/overlay.py:363\u001b[0m, in \u001b[0;36mOverlay.__getattr__\u001b[0;34m(self, key)\u001b[0m\n\u001b[1;32m    358\u001b[0m \u001b[38;5;124;03m\"\"\"Overload of __getattr__ to return a driver for an IP or\u001b[39;00m\n\u001b[1;32m    359\u001b[0m \u001b[38;5;124;03mhierarchy. Throws an `RuntimeError` if the overlay is not loaded.\u001b[39;00m\n\u001b[1;32m    360\u001b[0m \n\u001b[1;32m    361\u001b[0m \u001b[38;5;124;03m\"\"\"\u001b[39;00m\n\u001b[1;32m    362\u001b[0m \u001b[38;5;28;01mif\u001b[39;00m \u001b[38;5;28mself\u001b[39m\u001b[38;5;241m.\u001b[39mis_loaded():\n\u001b[0;32m--> 363\u001b[0m     \u001b[38;5;28;01mreturn\u001b[39;00m \u001b[38;5;28;43mgetattr\u001b[39;49m\u001b[43m(\u001b[49m\u001b[38;5;28;43mself\u001b[39;49m\u001b[38;5;241;43m.\u001b[39;49m\u001b[43m_ip_map\u001b[49m\u001b[43m,\u001b[49m\u001b[43m \u001b[49m\u001b[43mkey\u001b[49m\u001b[43m)\u001b[49m\n\u001b[1;32m    364\u001b[0m \u001b[38;5;28;01melse\u001b[39;00m:\n\u001b[1;32m    365\u001b[0m     \u001b[38;5;28;01mraise\u001b[39;00m \u001b[38;5;167;01mRuntimeError\u001b[39;00m(\u001b[38;5;124m\"\u001b[39m\u001b[38;5;124mOverlay not currently loaded\u001b[39m\u001b[38;5;124m\"\u001b[39m)\n",
      "File \u001b[0;32m/usr/local/share/pynq-venv/lib/python3.10/site-packages/pynq/overlay.py:931\u001b[0m, in \u001b[0;36m_IPMap.__getattr__\u001b[0;34m(self, key)\u001b[0m\n\u001b[1;32m    929\u001b[0m     \u001b[38;5;28;01mreturn\u001b[39;00m mem\n\u001b[1;32m    930\u001b[0m \u001b[38;5;28;01melse\u001b[39;00m:\n\u001b[0;32m--> 931\u001b[0m     \u001b[38;5;28;01mraise\u001b[39;00m \u001b[38;5;167;01mAttributeError\u001b[39;00m(\n\u001b[1;32m    932\u001b[0m         \u001b[38;5;124m\"\u001b[39m\u001b[38;5;124mCould not find IP or hierarchy \u001b[39m\u001b[38;5;132;01m{}\u001b[39;00m\u001b[38;5;124m in overlay\u001b[39m\u001b[38;5;124m\"\u001b[39m\u001b[38;5;241m.\u001b[39mformat(key)\n\u001b[1;32m    933\u001b[0m     )\n",
      "\u001b[0;31mAttributeError\u001b[0m: Could not find IP or hierarchy pathtracer in overlay"
     ]
    }
   ],
   "source": [
    "pathtracer     = overlay.render_0\n",
    "#dma_0 = overlay.axi_dma_0\n",
    "dma_r_send = overlay.axi_dma_r.sendchannel\n",
    "dma_r_recv = overlay.axi_dma_r.recvchannel\n",
    "dma_g_send = overlay.axi_dma_g.sendchannel\n",
    "dma_g_recv = overlay.axi_dma_g.recvchannel\n",
    "dma_b_send = overlay.axi_dma_b.sendchannel\n",
    "dma_b_recv = overlay.axi_dma_b.recvchannel\n",
    "\n",
    "CONTROL_REGISTER = 0x0"
   ]
  },
  {
   "cell_type": "code",
   "execution_count": null,
   "metadata": {},
   "outputs": [],
   "source": [
    "def process_buffers_fpga(in_buffer, out_buffer):\n",
    "\n",
    "    pathtracer.write(CONTROL_REGISTER, 0x01)\n",
    "    \n",
    "    dma_0_send.transfer(in_buffer)\n",
    "    dma_0_recv.transfer(out_buffer)\n",
    "    dma_0_send.wait()\n",
    "    dma_0_recv.wait()\n",
    "\n",
    "def process_fpga(raw_data):\n",
    "    \n",
    "    print(\"in data type: \", raw_data.dtype, \" len: \", len(raw_data))\n",
    "    in_buffer = allocate(shape=(len(raw_data),), dtype=raw_data.dtype)\n",
    "    out_buffer = allocate(shape=(len(raw_data),), dtype=raw_data.dtype)\n",
    "    \n",
    "    process_buffers_fpga(in_buffer, out_buffer)\n",
    "    \n",
    "    return out_buffer"
   ]
  },
  {
   "cell_type": "code",
   "execution_count": null,
   "metadata": {},
   "outputs": [],
   "source": [
    "from IPython.display import Audio as IPAudio\n",
    "IPAudio(\"recording_0.wav\")"
   ]
  },
  {
   "cell_type": "markdown",
   "metadata": {},
   "source": [
    "## Plotting PCM data\n",
    "\n",
    "Users can display the audio data in notebook:\n",
    "\n",
    "1. Plot the audio signal's amplitude over time.\n",
    "2. Plot the spectrogram of the audio signal.\n",
    "\n",
    "The next cell reads the saved audio file and processes it into a `numpy` array.\n",
    "Note that if the audio sample width is not standard, additional processing\n",
    "is required. In the following example, the `sample_width` is read from the\n",
    "wave file itself (24-bit dual-channel PCM audio, where `sample_width` is 3 bytes)."
   ]
  },
  {
   "cell_type": "code",
   "execution_count": null,
   "metadata": {},
   "outputs": [],
   "source": [
    "%matplotlib inline\n",
    "import wave\n",
    "import numpy as np\n",
    "import matplotlib\n",
    "import matplotlib.pyplot as plt\n",
    "from scipy.fftpack import fft\n",
    "\n",
    "wav_path = \"recording_0.wav\"\n",
    "with wave.open(wav_path, 'r') as wav_file:\n",
    "    raw_frames = wav_file.readframes(-1)\n",
    "    num_frames = wav_file.getnframes()\n",
    "    num_channels = wav_file.getnchannels()\n",
    "    sample_rate = wav_file.getframerate()\n",
    "    sample_width = wav_file.getsampwidth()\n",
    "    \n",
    "temp_buffer = np.empty((num_frames, num_channels, 4), dtype=np.uint8)\n",
    "raw_bytes = np.frombuffer(raw_frames, dtype=np.uint8)\n",
    "temp_buffer[:, :, :sample_width] = raw_bytes.reshape(-1, num_channels, \n",
    "                                                    sample_width)\n",
    "temp_buffer[:, :, sample_width:] = \\\n",
    "    (temp_buffer[:, :, sample_width-1:sample_width] >> 7) * 255\n",
    "frames = temp_buffer.view('<i4').reshape(temp_buffer.shape[:-1])"
   ]
  },
  {
   "cell_type": "markdown",
   "metadata": {},
   "source": [
    "### 1. Amplitude over time"
   ]
  },
  {
   "cell_type": "code",
   "execution_count": null,
   "metadata": {},
   "outputs": [],
   "source": [
    "for channel_index in range(num_channels):\n",
    "    plt.figure(num=None, figsize=(15, 3))\n",
    "    plt.title('Audio in Time Domain (Channel {})'.format(channel_index))\n",
    "    plt.xlabel('Time in s')\n",
    "    plt.ylabel('Amplitude')\n",
    "    time_axis = np.arange(0, num_frames/sample_rate, 1/sample_rate)\n",
    "    plt.plot(time_axis, frames[:, channel_index])\n",
    "    plt.show()"
   ]
  },
  {
   "cell_type": "code",
   "execution_count": null,
   "metadata": {},
   "outputs": [],
   "source": [
    "filtered_data = []\n",
    "for i in range(num_channels):\n",
    "    filtered = process_fpga(frames[:, 0])\n",
    "    filtered_data.append(filtered)"
   ]
  },
  {
   "cell_type": "code",
   "execution_count": null,
   "metadata": {},
   "outputs": [],
   "source": [
    "for channel_index in range(num_channels):\n",
    "    plt.figure(num=None, figsize=(15, 3))\n",
    "    plt.title('Audio in Time Domain (Channel {})'.format(channel_index))\n",
    "    plt.xlabel('Time in s')\n",
    "    plt.ylabel('Amplitude')\n",
    "    time_axis = np.arange(0, num_frames/sample_rate, 1/sample_rate)\n",
    "    plt.plot(time_axis, filtered_data[channel_index])\n",
    "    plt.show()"
   ]
  },
  {
   "cell_type": "code",
   "execution_count": null,
   "metadata": {},
   "outputs": [],
   "source": []
  }
 ],
 "metadata": {
  "kernelspec": {
   "display_name": "Python 3 (ipykernel)",
   "language": "python",
   "name": "python3"
  },
  "language_info": {
   "codemirror_mode": {
    "name": "ipython",
    "version": 3
   },
   "file_extension": ".py",
   "mimetype": "text/x-python",
   "name": "python",
   "nbconvert_exporter": "python",
   "pygments_lexer": "ipython3",
   "version": "3.10.4"
  }
 },
 "nbformat": 4,
 "nbformat_minor": 1
}

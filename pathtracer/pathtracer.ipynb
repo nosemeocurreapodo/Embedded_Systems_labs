{
 "cells": [
  {
   "cell_type": "code",
   "execution_count": 1,
   "metadata": {},
   "outputs": [
    {
     "data": {
      "application/javascript": [
       "\n",
       "try {\n",
       "require(['notebook/js/codecell'], function(codecell) {\n",
       "  codecell.CodeCell.options_default.highlight_modes[\n",
       "      'magic_text/x-csrc'] = {'reg':[/^%%microblaze/]};\n",
       "  Jupyter.notebook.events.one('kernel_ready.Kernel', function(){\n",
       "      Jupyter.notebook.get_cells().map(function(cell){\n",
       "          if (cell.cell_type == 'code'){ cell.auto_highlight(); } }) ;\n",
       "  });\n",
       "});\n",
       "} catch (e) {};\n"
      ]
     },
     "metadata": {},
     "output_type": "display_data"
    },
    {
     "data": {
      "application/javascript": [
       "\n",
       "try {\n",
       "require(['notebook/js/codecell'], function(codecell) {\n",
       "  codecell.CodeCell.options_default.highlight_modes[\n",
       "      'magic_text/x-csrc'] = {'reg':[/^%%pybind11/]};\n",
       "  Jupyter.notebook.events.one('kernel_ready.Kernel', function(){\n",
       "      Jupyter.notebook.get_cells().map(function(cell){\n",
       "          if (cell.cell_type == 'code'){ cell.auto_highlight(); } }) ;\n",
       "  });\n",
       "});\n",
       "} catch (e) {};\n"
      ]
     },
     "metadata": {},
     "output_type": "display_data"
    }
   ],
   "source": [
    "from pynq import Overlay, allocate, PL\n",
    "import numpy as np\n",
    "import matplotlib.pyplot as plt\n",
    "import matplotlib.image as mpimg\n",
    "\n",
    "PL.reset()\n",
    "overlay = Overlay('pathtracer.bit')"
   ]
  },
  {
   "cell_type": "code",
   "execution_count": 2,
   "metadata": {},
   "outputs": [
    {
     "name": "stdout",
     "output_type": "stream",
     "text": [
      "IP blocks : ['render_0', 'axi_dma_b', 'axi_dma_g', 'axi_dma_r', 'processing_system7_0']\n"
     ]
    }
   ],
   "source": [
    "print('IP blocks :', list(overlay.ip_dict.keys()))"
   ]
  },
  {
   "cell_type": "code",
   "execution_count": 3,
   "metadata": {},
   "outputs": [],
   "source": [
    "pathtracer     = overlay.render_0\n",
    "#dma_0 = overlay.axi_dma_0\n",
    "\n",
    "dma_r_recv = overlay.axi_dma_r.recvchannel\n",
    "dma_g_recv = overlay.axi_dma_g.recvchannel\n",
    "dma_b_recv = overlay.axi_dma_b.recvchannel\n",
    "\n",
    "CONTROL_REGISTER = 0x0\n",
    "\n",
    "def get_register_offset(overlay, ip, parameter):\n",
    "    return overlay.ip_dict[ip]['registers'][parameter]['address_offset']\n",
    "\n",
    "WIDTH_REGISTER = get_register_offset(overlay, 'render_0', 'width')\n",
    "HEIGHT_REGISTER = get_register_offset(overlay, 'render_0', 'height')\n",
    "SAMPLES_REGISTER = get_register_offset(overlay, 'render_0', 'samples_per_pixel')"
   ]
  },
  {
   "cell_type": "code",
   "execution_count": 4,
   "metadata": {},
   "outputs": [],
   "source": [
    "def process_buffers_fpga(r_buffer, g_buffer, b_buffer):\n",
    "    dma_r_recv.transfer(r_buffer)\n",
    "    dma_g_recv.transfer(g_buffer)\n",
    "    dma_b_recv.transfer(b_buffer)\n",
    "    dma_r_recv.wait()\n",
    "    dma_g_recv.wait()\n",
    "    dma_b_recv.wait()\n",
    "\n",
    "def process_fpga(width, height, num_samples=2):\n",
    "    \n",
    "    pathtracer.write(WIDTH_REGISTER, width)\n",
    "    pathtracer.write(HEIGHT_REGISTER, height)\n",
    "    pathtracer.write(SAMPLES_REGISTER, num_samples)\n",
    "    pathtracer.write(CONTROL_REGISTER, 0x01)\n",
    "    \n",
    "    r_buffer = allocate(shape=(width*height,), dtype=np.int32)\n",
    "    g_buffer = allocate(shape=(width*height,), dtype=np.int32)\n",
    "    b_buffer = allocate(shape=(width*height,), dtype=np.int32)\n",
    "    \n",
    "    process_buffers_fpga(r_buffer, g_buffer, b_buffer)\n",
    "    \n",
    "    image = np.zeros((height, width, 3), dtype=np.int32)\n",
    "    for y in range(height):\n",
    "        for x in range(width):\n",
    "            image[y, x, 0] = r_buffer[x + y*width]\n",
    "            image[y, x, 1] = g_buffer[x + y*width]\n",
    "            image[y, x, 2] = b_buffer[x + y*width]\n",
    "    \n",
    "    return image\n",
    "\n",
    "image = process_fpga(400, 400)"
   ]
  },
  {
   "cell_type": "code",
   "execution_count": 5,
   "metadata": {},
   "outputs": [
    {
     "data": {
      "image/png": "[encoded data removed]",
      "text/plain": [
       "<Figure size 432x288 with 1 Axes>"
      ]
     },
     "metadata": {
      "needs_background": "light"
     },
     "output_type": "display_data"
    }
   ],
   "source": [
    "%matplotlib inline\n",
    "imgplot = plt.imshow(image)\n",
    "plt.show()"
   ]
  },
  {
   "cell_type": "code",
   "execution_count": null,
   "metadata": {},
   "outputs": [],
   "source": []
  }
 ],
 "metadata": {
  "kernelspec": {
   "display_name": "Python 3 (ipykernel)",
   "language": "python",
   "name": "python3"
  },
  "language_info": {
   "codemirror_mode": {
    "name": "ipython",
    "version": 3
   },
   "file_extension": ".py",
   "mimetype": "text/x-python",
   "name": "python",
   "nbconvert_exporter": "python",
   "pygments_lexer": "ipython3",
   "version": "3.10.4"
  }
 },
 "nbformat": 4,
 "nbformat_minor": 1
}

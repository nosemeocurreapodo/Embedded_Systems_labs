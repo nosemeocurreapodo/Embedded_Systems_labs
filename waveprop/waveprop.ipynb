{
 "cells": [
  {
   "cell_type": "code",
   "execution_count": null,
   "metadata": {},
   "outputs": [
    {
     "data": {
      "application/javascript": "\ntry {\nrequire(['notebook/js/codecell'], function(codecell) {\n  codecell.CodeCell.options_default.highlight_modes[\n      'magic_text/x-csrc'] = {'reg':[/^%%microblaze/]};\n  Jupyter.notebook.events.one('kernel_ready.Kernel', function(){\n      Jupyter.notebook.get_cells().map(function(cell){\n          if (cell.cell_type == 'code'){ cell.auto_highlight(); } }) ;\n  });\n});\n} catch (e) {};\n"
     },
     "metadata": {},
     "output_type": "display_data"
    },
    {
     "data": {
      "application/javascript": "\ntry {\nrequire(['notebook/js/codecell'], function(codecell) {\n  codecell.CodeCell.options_default.highlight_modes[\n      'magic_text/x-csrc'] = {'reg':[/^%%pybind11/]};\n  Jupyter.notebook.events.one('kernel_ready.Kernel', function(){\n      Jupyter.notebook.get_cells().map(function(cell){\n          if (cell.cell_type == 'code'){ cell.auto_highlight(); } }) ;\n  });\n});\n} catch (e) {};\n"
     },
     "metadata": {},
     "output_type": "display_data"
    }
   ],
   "source": [
    "from pynq import Overlay, allocate, PL\n",
    "import numpy as np\n",
    "import matplotlib.pyplot as plt\n",
    "import matplotlib.image as mpimg\n",
    "\n",
    "PL.reset()\n",
    "overlay = Overlay('waveprop.bit')"
   ]
  },
  {
   "cell_type": "code",
   "execution_count": 2,
   "metadata": {},
   "outputs": [
    {
     "name": "stdout",
     "output_type": "stream",
     "text": [
      "IP blocks : ['wah_wah_filter_axi_0', 'render_0', 'axi_dma_0', 'axi_dma_r', 'axi_dma_b', 'axi_dma_g', 'processing_system7_0']\n"
     ]
    }
   ],
   "source": [
    "print('IP blocks :', list(overlay.ip_dict.keys()))"
   ]
  },
  {
   "cell_type": "code",
   "execution_count": null,
   "metadata": {},
   "outputs": [],
   "source": [
    "waveprop     = overlay.waveprop_0\n",
    "\n",
    "dma_recv = overlay.axi_dma_waveprop.recvchannel\n",
    "\n",
    "CONTROL_REGISTER = 0x0\n",
    "\n",
    "def get_register_offset(overlay, ip, parameter):\n",
    "    return overlay.ip_dict[ip]['registers'][parameter]['address_offset']\n",
    "\n",
    "#WIDTH_REGISTER = get_register_offset(overlay, 'render_0', 'width')\n",
    "#HEIGHT_REGISTER = get_register_offset(overlay, 'render_0', 'height')\n",
    "#SAMPLES_REGISTER = get_register_offset(overlay, 'render_0', 'samples_per_pixel')"
   ]
  },
  {
   "cell_type": "code",
   "execution_count": null,
   "metadata": {},
   "outputs": [],
   "source": [
    "def process_buffers_fpga(buffer):\n",
    "    dma_recv.transfer(buffer)\n",
    "    dma_recv.wait()\n",
    "\n",
    "def process_fpga():\n",
    "    \n",
    "    #hardcoded into the hls ip\n",
    "    width = 100\n",
    "    height = 100\n",
    "    \n",
    "    waveprop.write(CONTROL_REGISTER, 0x01)\n",
    "    \n",
    "    buffer = allocate(shape=(width*height,), dtype=np.float32)\n",
    "    \n",
    "    process_buffers_fpga(buffer)\n",
    "    \n",
    "    image = zeros((height, width), dtype=np.float32)\n",
    "    for y in range(height):\n",
    "        for x in range(width):\n",
    "            image[y, x] = buffer[x + y*width]\n",
    "    \n",
    "    return image\n",
    "\n",
    "image = process_fpga()"
   ]
  },
  {
   "cell_type": "code",
   "execution_count": null,
   "metadata": {},
   "outputs": [],
   "source": [
    "%matplotlib inline\n",
    "imgplot = plt.imshow(image)\n",
    "plt.show()"
   ]
  }
 ],
 "metadata": {
  "kernelspec": {
   "display_name": "Python 3 (ipykernel)",
   "language": "python",
   "name": "python3"
  },
  "language_info": {
   "codemirror_mode": {
    "name": "ipython",
    "version": 3
   },
   "file_extension": ".py",
   "mimetype": "text/x-python",
   "name": "python",
   "nbconvert_exporter": "python",
   "pygments_lexer": "ipython3",
   "version": "3.10.4"
  }
 },
 "nbformat": 4,
 "nbformat_minor": 1
}
